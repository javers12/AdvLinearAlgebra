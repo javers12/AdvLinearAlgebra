{
  "nbformat": 4,
  "nbformat_minor": 0,
  "metadata": {
    "colab": {
      "name": "Copy of Project 4:  Case 0 - Solving for a known polynomial function using Singular Values or Best Fit.ipynb",
      "provenance": [],
      "collapsed_sections": [],
      "include_colab_link": true
    },
    "kernelspec": {
      "name": "python3",
      "display_name": "Python 3"
    }
  },
  "cells": [
    {
      "cell_type": "markdown",
      "metadata": {
        "id": "view-in-github",
        "colab_type": "text"
      },
      "source": [
        "<a href=\"https://colab.research.google.com/github/javers12/AdvLinearAlgebra/blob/master/Copy_of_Project_4_Case_0_Solving_for_a_known_polynomial_function_using_Singular_Values_or_Best_Fit.ipynb\" target=\"_parent\"><img src=\"https://colab.research.google.com/assets/colab-badge.svg\" alt=\"Open In Colab\"/></a>"
      ]
    },
    {
      "cell_type": "code",
      "metadata": {
        "id": "9_AimxJu0fZa",
        "colab_type": "code",
        "colab": {}
      },
      "source": [
        "#  Libraries that we'll need:\n",
        "import numpy as np\n",
        "import sympy as sym\n",
        "#from scipy import misc\n",
        "from scipy import linalg\n",
        "#from PIL import Image\n",
        "#import imageio\n",
        "import matplotlib.pyplot as plt\n",
        "# importing \"random\" for random operations \n",
        "import random "
      ],
      "execution_count": 0,
      "outputs": []
    },
    {
      "cell_type": "markdown",
      "metadata": {
        "id": "ah9MqhC_0nc3",
        "colab_type": "text"
      },
      "source": [
        "#  Singular Value Decomposition and Best Fit\n",
        "\n",
        "We look at some data generated here from three sources:\n",
        "\n",
        "*   Case 0:  A known polynomial function $f(x) = 4 - 3x^2 + 5x^6$\n",
        "*   Case 1:  A known trigonometric function $f(x) = 4 - 2*cos(x) + cos^2 (x)$\n",
        "*   Case 2:  A matrix of data $M$ (specified below) with unknown source function\n",
        "*   Case 3:  An interesting case."
      ]
    },
    {
      "cell_type": "markdown",
      "metadata": {
        "id": "u294N29608yk",
        "colab_type": "text"
      },
      "source": [
        "#  Overview for Case 0: Fit for a known polynomial function $f(x) = 4 - 3x^2 + 5x^6$\n",
        "We generate data for the polynomial function \n",
        "$$f(x) = 4 -3x^2 +5x^6$$ \n",
        "We know two things: The input (x) and the output (f(x)) for that input.  Pretend we know the (x, f(x)) pairs for **a lot** of different points, say (cough... cough...) $3$ of them.\n",
        "\n",
        "We want to find out what combination of polynomials $1, x, x^2, x^3, x^4, x^5,$ and $x^6$ best matches the data.  For each input/output pair $(x, f(x))$, we generate one row of data in the system $Ac = b$:\n",
        "\n",
        "$$ [  c_0 * 1 + c_1 * x + c_2 * x^2 + c_3 * x^3 + ... c_6 x^6 = f(x) ] $$\n",
        "\n",
        "or\n",
        "\n",
        "$$ \\left[ \\begin{array}{ccccccc} 1 & x & x^2 & x^3 & x^4 & x^5 & x^6 \\end{array} \\right] \\left( \\begin{array}{c} c_0 \\\\ c_1 \\\\ c_2 \\\\ c_3 \\\\ c_4 \\\\ c_5 \\\\c_6 \\\\ \\end{array} \\right) = \\left[ f(x) \\right] $$\n",
        "\n",
        "\n",
        "Be careful -- the unknowns are the coefficients in front - the $c_0, c_1, c_2, ..., c_6$ values.  Since we know $x$, then we know $x, x^2, x^3, x^4, ... x^6$. And we know the output $f(x)$ for that row.\n",
        "\n",
        "So, if we know $x=2$ and $f(2) = 312$, then we populate the row as:\n",
        "\n",
        "$$ [  c_0*1  + c_1*2 + c_2*4 + c_3*8 + ... + c_6*64 = 312 ] $$\n",
        "\n",
        "or\n",
        "$$ \\left[ \\begin{array}{ccccccc} 1 & 2 & 4 & 8 & 16 & x32 & 64 \\end{array} \\right] \\left( \\begin{array}{c} c_0 \\\\ c_1 \\\\ c_2 \\\\ c_3 \\\\ c_4 \\\\ c_5 \\\\c_6 \\\\ \\end{array} \\right) = \\left[ 312 \\right] $$\n",
        "\n",
        "where the vector $\\vec{c}$ contains the unknowns $c_0, c_1, c_2, \\ldots c_6$\n",
        "\n",
        "So... let's generate the matrix:\n"
      ]
    },
    {
      "cell_type": "markdown",
      "metadata": {
        "id": "tWC4d8yQZGrx",
        "colab_type": "text"
      },
      "source": [
        "# 0.1  Setting up the system:\n",
        "\n",
        "We'll generate some data points for our system using the function \n",
        "$$ f(x) = 4 - 3x^2 + 5x^6$$\n",
        "\n",
        "We'll store the input data in **actual_data_x** and the output in **actual_data_y**.\n",
        "\n",
        "We'll also use the data to set up a system\n",
        "$$M \\vec{x} = \\vec{b}$$\n",
        "\n",
        "where **actual_data_x** is used to populate matrix $M$ and **actual_data_y** is used to populate $\\vec{b}$."
      ]
    },
    {
      "cell_type": "code",
      "metadata": {
        "id": "3xcazoedaEdj",
        "colab_type": "code",
        "colab": {}
      },
      "source": [
        "#We'll generate random points of data for our system.\n",
        "#The actual points for the system will be stored in containers actual_data_x and actual_data_y\n",
        "\n",
        "actual_data_x = []\n",
        "actual_data_y = []\n",
        "\n",
        "#We'll use (cough... cough...) three   data points:\n",
        "for i in range(250):\n",
        "    # pick a random number between -5 and 5\n",
        "    x = 6*random.random() - 3\n",
        "    f = 4 - 3*x**2 + 5*x**6\n",
        "    actual_data_x.append(x)\n",
        "    actual_data_y.append(f)"
      ],
      "execution_count": 0,
      "outputs": []
    },
    {
      "cell_type": "code",
      "metadata": {
        "id": "qBDgSCalahsU",
        "colab_type": "code",
        "colab": {}
      },
      "source": [
        "# uncomment code below  to look at the data in actual_data_x or in actual_data_y\n",
        "\n",
        "#actual_data_x\n",
        "#actual_data_y"
      ],
      "execution_count": 0,
      "outputs": []
    },
    {
      "cell_type": "code",
      "metadata": {
        "id": "XV2S8QHhatXJ",
        "colab_type": "code",
        "colab": {}
      },
      "source": [
        "#Create the matrix M from the data in actual_data_x\n",
        "M_entries = []\n",
        "\n",
        "for x in actual_data_x:\n",
        "  M_entries.append([1, x, x**2, x**3, x**4, x**5, x**6])\n",
        "\n",
        "M = []\n",
        "M = np.matrix(M_entries)\n",
        "\n",
        "\n",
        "#and create the vector b from the data in actual_data_y:\n",
        "b = []\n",
        "b = (np.matrix(actual_data_y)).transpose()"
      ],
      "execution_count": 0,
      "outputs": []
    },
    {
      "cell_type": "code",
      "metadata": {
        "id": "RsAZQ_8TbUrQ",
        "colab_type": "code",
        "outputId": "2bd1c6d8-7b43-4b68-999d-16023a4ab134",
        "colab": {
          "base_uri": "https://localhost:8080/",
          "height": 72
        }
      },
      "source": [
        "# Uncomment either line below to show the matrix M\n",
        "# or the first five entries of b\n",
        "\n",
        "M\n",
        "b[:5]"
      ],
      "execution_count": 0,
      "outputs": [
        {
          "output_type": "execute_result",
          "data": {
            "text/plain": [
              "matrix([[ 338.10982484],\n",
              "        [3553.04862329],\n",
              "        [2873.42520597]])"
            ]
          },
          "metadata": {
            "tags": []
          },
          "execution_count": 269
        }
      ]
    },
    {
      "cell_type": "markdown",
      "metadata": {
        "id": "zHF_2CDqcde5",
        "colab_type": "text"
      },
      "source": [
        "#0.2:  Plot the generated system:\n",
        "\n",
        "We'll create a plot showing the function (in red) and the data points sampled for the function (in blue).\n",
        "\n",
        "To generate the graph of the function $f(x)$, we first use $100$ data points from $0$ to $99$, then compress them into an interval of width $6$, and shift it left so that the 100 data points are equally spaced between $x = -3$ and $x=3$."
      ]
    },
    {
      "cell_type": "code",
      "metadata": {
        "id": "XViuaKVK3aU3",
        "colab_type": "code",
        "outputId": "8db0bcaf-9873-4291-b14e-4f0ae8a14606",
        "colab": {
          "base_uri": "https://localhost:8080/",
          "height": 295
        }
      },
      "source": [
        "# We'll specify that x is a variable:\n",
        "x = sym.symbols('x')\n",
        "\n",
        "xdata = []\n",
        "fdata = []\n",
        "#set up our 100 data points on the interval from (-3, 3):\n",
        "xdata = np.array(range(100))/(100/6) - 3\n",
        "# find the ouput for our function on each data point:\n",
        "fdata = 4 - 3*xdata**2 + 5*xdata**6\n",
        "\n",
        "\n",
        "# Create the plot in red, and our datapoints in blue:  \n",
        "plt.plot(xdata,fdata, color='red') + plt.plot(actual_data_x, actual_data_y, 'bo')\n",
        "\n",
        "# Add a title\n",
        "plt.title('Our test data (in blue) compared to the actual data (in red)')\n",
        "\n",
        "# Add X and y Label\n",
        "plt.xlabel('x axis')\n",
        "plt.ylabel('output')\n",
        "\n",
        "# Add a grid\n",
        "plt.grid(alpha=.4,linestyle='--')\n"
      ],
      "execution_count": 0,
      "outputs": [
        {
          "output_type": "display_data",
          "data": {
            "image/png": "[encoded data removed]",
            "text/plain": [
              "<Figure size 432x288 with 1 Axes>"
            ]
          },
          "metadata": {
            "tags": [],
            "needs_background": "light"
          }
        }
      ]
    },
    {
      "cell_type": "markdown",
      "metadata": {
        "id": "uWyKTBIaeI11",
        "colab_type": "text"
      },
      "source": [
        "#0.3:  Solving the system using the method of Best-Fit:\n",
        "\n",
        "Given a system \n",
        "$$ M \\vec{x} = \\vec{b}$\n",
        "\n",
        "where matrix $M$ is **not necessarily square**, we can multiply by $M^T$ on the left to form the system\n",
        "\n",
        "$$ \\left( M^T M \\right) \\vec{x} = M^T \\vec{b} $$\n",
        "\n",
        "Now, $M^T M$ is a square matrix, so we can use it's inverse to solve for $\\vec{x}$:\n",
        "\n",
        "$$ \\vec{x} = \\left( M^T M \\right)^{-1} M^T \\vec{b}$$\n",
        "\n",
        "This solution method is called the method of Best-Fit.\n",
        "\n",
        "**A word of caution**:  We're initially trying to fit a 6th degree polynomial with only 3 data points.  That shouldn't have a good solution, and it could have no solution.  If you get no solution, start at the top and re-run the code to generate a new set of random data points for our system."
      ]
    },
    {
      "cell_type": "code",
      "metadata": {
        "id": "Lt_-LiCm4mX5",
        "colab_type": "code",
        "outputId": "42b4faa6-d716-44ea-db7f-af7a4076c053",
        "colab": {
          "base_uri": "https://localhost:8080/",
          "height": 136
        }
      },
      "source": [
        "#  Find the solution to Mx = b using Best Fit:\n",
        "#  (We've already used 'x' as a variable, so we'll call the solution vector c.)\n",
        "c = linalg.inv(M.transpose() * M) * M.transpose() * b\n",
        "c\n"
      ],
      "execution_count": 0,
      "outputs": [
        {
          "output_type": "execute_result",
          "data": {
            "text/plain": [
              "matrix([[ 4.00000000e+00],\n",
              "        [-1.37504230e-10],\n",
              "        [-3.00000000e+00],\n",
              "        [ 6.31757757e-10],\n",
              "        [ 1.73145054e-10],\n",
              "        [ 2.46913601e-11],\n",
              "        [ 5.00000000e+00]])"
            ]
          },
          "metadata": {
            "tags": []
          },
          "execution_count": 8
        }
      ]
    },
    {
      "cell_type": "markdown",
      "metadata": {
        "id": "32HO69A9f9WO",
        "colab_type": "text"
      },
      "source": [
        "We can test our solution against the output of our original system.\n",
        "\n",
        "The original output in our system is represented by $\\vec{b}$.\n",
        "\n",
        "Our suggested solution to $M\\vec{x} = \\vec{b}$ is $\\vec{c}$.  That is, we think\n",
        "\n",
        "$$ M \\vec{c} \\approx \\vec{b}$$\n",
        "\n",
        "If we have a good fit, then \n",
        "\n",
        "$$\\vec{b} - M \\vec{c} \\approx 0$$\n",
        "\n",
        "To test our solution, we find the) magnitude of $\\vec{b} - M\\vec{c}$:"
      ]
    },
    {
      "cell_type": "code",
      "metadata": {
        "id": "alHjgx4L4ydh",
        "colab_type": "code",
        "outputId": "9de0a52e-5140-4caa-abe2-63ba18e1cb8e",
        "colab": {
          "base_uri": "https://localhost:8080/",
          "height": 34
        }
      },
      "source": [
        "#  Let's see how close this actually gets us by comparing the original b vector to the result of Mc:\n",
        "error = ((b-M*c).transpose() * (b-M*c))[0,0]\n",
        "error**0.5"
      ],
      "execution_count": 0,
      "outputs": [
        {
          "output_type": "execute_result",
          "data": {
            "text/plain": [
              "8.961627176276731e-09"
            ]
          },
          "metadata": {
            "tags": []
          },
          "execution_count": 9
        }
      ]
    },
    {
      "cell_type": "markdown",
      "metadata": {
        "id": "rO3fm0sVhI_M",
        "colab_type": "text"
      },
      "source": [
        "We can plot the actual solution (in red) with our best-fit solution (in green), using the test data shown as blue points.  It may be helpful to adjust the limits on the y-axis to zoom in or out on the output.\n"
      ]
    },
    {
      "cell_type": "code",
      "metadata": {
        "id": "bygM7WnqhIHw",
        "colab_type": "code",
        "outputId": "a47cd815-4f5a-4787-a761-06326d019d45",
        "colab": {
          "base_uri": "https://localhost:8080/",
          "height": 295
        }
      },
      "source": [
        "#Show a plot of the solutions using the best-fit method, and the SVD method:\n",
        "\n",
        "# We'll specify that x is a variable:\n",
        "x = sym.symbols('x')\n",
        "\n",
        "xdata = []\n",
        "fdata = []\n",
        "#set up our 100 data points on the interval from (-3, 3):\n",
        "xdata = np.array(range(100))/(100/6) - 3\n",
        "# find the ouput for our function on each data point:\n",
        "fdata = 4 - 3*xdata**2 + 5*xdata**6\n",
        "\n",
        "best_fit = c[0,0] + c[1,0]*xdata + c[2,0]*(xdata**2) + c[3,0]*(xdata**3) + c[4,0]*(xdata**4) + c[5,0]*(xdata**5) + c[6,0]*(xdata**6)\n",
        "# Create the actual plot in red, and our datapoints in blue,\n",
        "# and the best-fit method in green:  \n",
        "plt.plot(xdata,fdata, color='red', linewidth=2 ) + plt.plot(actual_data_x, actual_data_y, 'bo', alpha=0.3)+plt.plot(xdata,best_fit, color='green')\n",
        "\n",
        "#Restrict the output values to this range:\n",
        "plt.ylim(-30,30)\n",
        "\n",
        "# Add a title\n",
        "plt.title('Our test data (blue) for the original function (red) and our best-fit solution (green)')\n",
        "\n",
        "# Add X and y Label\n",
        "plt.xlabel('x axis')\n",
        "plt.ylabel('output')\n",
        "\n",
        "# Add a grid\n",
        "plt.grid(alpha=.4,linestyle='--')"
      ],
      "execution_count": 0,
      "outputs": [
        {
          "output_type": "display_data",
          "data": {
            "image/png": "[encoded data removed]",
            "text/plain": [
              "<Figure size 432x288 with 1 Axes>"
            ]
          },
          "metadata": {
            "tags": [],
            "needs_background": "light"
          }
        }
      ]
    },
    {
      "cell_type": "markdown",
      "metadata": {
        "id": "6JCKDSbQx20d",
        "colab_type": "text"
      },
      "source": [
        "#0.4 Solving the system using Singular Value Decomposition\n",
        "\n",
        "Singular Value Decomposition decomposes a matrix M into three matrices\n",
        "\n",
        "$$ M = U \\Sigma V^\\dagger$$\n",
        "\n",
        "where $U$ and $V$ are square matrices and $\\Sigma$ is a rectangular matrix with singular values on the main diagonal."
      ]
    },
    {
      "cell_type": "code",
      "metadata": {
        "id": "PFNKQo23KFEv",
        "colab_type": "code",
        "colab": {}
      },
      "source": [
        "#  For this method, we use SVD on the data matrix M:\n",
        "U, S, Vh = linalg.svd(M, full_matrices=True)\n",
        "\n",
        "Vh = Vh.T"
      ],
      "execution_count": 0,
      "outputs": []
    },
    {
      "cell_type": "code",
      "metadata": {
        "id": "zReOuVkOKoQ_",
        "colab_type": "code",
        "colab": {}
      },
      "source": [
        "#  Uncomment the lines below to show the matrix U, S, and Vh:\n",
        "#  Notice that in S only the singular values are stored, not the entire matrix.\n",
        "#U\n",
        "#S\n",
        "#Vh"
      ],
      "execution_count": 0,
      "outputs": []
    },
    {
      "cell_type": "code",
      "metadata": {
        "id": "swO65JoHLbgn",
        "colab_type": "code",
        "outputId": "32ac785f-2eb4-49fc-cf81-7207fd5aa3bd",
        "colab": {
          "base_uri": "https://localhost:8080/",
          "height": 34
        }
      },
      "source": [
        "#  The 2nd singular value is:\n",
        "S[1]"
      ],
      "execution_count": 0,
      "outputs": [
        {
          "output_type": "execute_result",
          "data": {
            "text/plain": [
              "43.1357088340583"
            ]
          },
          "metadata": {
            "tags": []
          },
          "execution_count": 13
        }
      ]
    },
    {
      "cell_type": "code",
      "metadata": {
        "id": "zs4i_zcQMg1d",
        "colab_type": "code",
        "outputId": "22cf567d-ef34-4547-822e-8ddac47af093",
        "colab": {
          "base_uri": "https://localhost:8080/",
          "height": 34
        }
      },
      "source": [
        "# We can compare the original matrix M to the matrix reconstructed (called a1) from the SVD:\n",
        "# If they are close, then allclose(M, a1) should be True.\n",
        "\n",
        "#First, recast S as a matrix instead of a vector:\n",
        "sigma = np.zeros((U.shape[1], Vh.shape[0]))\n",
        "for i in range(min(sigma.shape)):\n",
        "     sigma[i, i] = S[i]\n",
        "#Reconstruct the matrix:\n",
        "a1 = np.dot(U, np.dot(sigma, Vh.T))\n",
        "\n",
        "#does a1 approximate M?\n",
        "np.allclose(M, a1)"
      ],
      "execution_count": 0,
      "outputs": [
        {
          "output_type": "execute_result",
          "data": {
            "text/plain": [
              "True"
            ]
          },
          "metadata": {
            "tags": []
          },
          "execution_count": 14
        }
      ]
    },
    {
      "cell_type": "markdown",
      "metadata": {
        "id": "UsQKVQln09qn",
        "colab_type": "text"
      },
      "source": [
        "The SVD decomposition of matrix $M$ may have non-zero singular values in $\\Sigma.  To solve\n",
        "$$ M \\vec{x} = \\vec{b}$$\n",
        "\n",
        "we can replace $M$ with $U \\Sigma V^\\dagger$:\n",
        "$$ U \\, \\Sigma \\, V^\\dagger \\, \\vec{x} = \\vec{b}$$\n",
        "\n",
        "The inverse of matrices $U$ and $V$ are $U^\\dagger$ and $V^\\dagger$.  If we decompose $\\Sigma$ into a block matrix composed of the non-zero singular values, then we can restrict our singular value decomposition into invertible and non-invertible parts:\n",
        "\n",
        "$$ U \\, \\Sigma \\, V^\\dagger = \\left( \\begin{array}{c|c} U_{use} & U_{discard} \\\\ \\end{array} \\right) \\left( \\begin{array}{c|c} \\Sigma_{use} & 0 \\\\ \\hline 0 & \\Sigma_{discard} \\\\ \\end{array} \\right)  \\left( \\begin{array}{c|c} V_{use} & V_{discard} \\\\ \\end{array} \\right)^\\dagger$$\n",
        "\n",
        "Effectively, this allows us to replace $U \\Sigma V^\\dagger \\vec{x} = \\vec{b}$ with\n",
        "\n",
        "$$ U_{use} \\, \\Sigma_{use} \\, V_{use}^\\dagger \\, \\vec{x} = \\vec{b}$$\n",
        "\n",
        "The solution to this system is then\n",
        "\n",
        "$$\\vec{x} = V_{use} \\, \\Sigma_{use}^{-1} \\, U_{use}^\\dagger \\, \\vec{b}$$\n"
      ]
    },
    {
      "cell_type": "code",
      "metadata": {
        "id": "OWnxUptVMreR",
        "colab_type": "code",
        "colab": {}
      },
      "source": [
        "#  Based on the number of non-zero singular values in S, divide each of U, sigma, and Vh into \n",
        "#  U_use, Sigma_use, and Vh_use.\n",
        "#  and  discard U_d, Sigma_d, Vh_d\n",
        "useSigs = 100\n",
        "\n",
        "#Use these parts of U, S, and Vh\n",
        "(Vrows, Vcols) = Vh.shape\n",
        "(Urows, Ucols) = U.shape\n",
        "U_use = U[:Urows, :useSigs]\n",
        "Vh_use = Vh[:Vrows, :useSigs]\n",
        "sigma_use = sigma[:useSigs, :useSigs]\n",
        "\n",
        "#discard these parts of U, S, and Vh:\n",
        "U_d = U[:Urows, useSigs:]\n",
        "Vh_d = Vh[:Vrows, useSigs:]\n",
        "sigma_d = sigma[useSigs:, useSigs:]"
      ],
      "execution_count": 0,
      "outputs": []
    },
    {
      "cell_type": "code",
      "metadata": {
        "id": "FJvxlnbLM0X8",
        "colab_type": "code",
        "outputId": "b9fada1c-530a-4253-966f-fab7bb713132",
        "colab": {
          "base_uri": "https://localhost:8080/",
          "height": 34
        }
      },
      "source": [
        "#  We should be able to figure out the size of U and Vh that we'll use:\n",
        "#\n",
        "#  U S Vh  =   [         .     ] [             .         ]  [            .      ]\n",
        "#              [ U_use   .     ] [  sigma_use  .         ]  [   Vh_use   .      ]\n",
        "#              [         . U_d ] [.......................]  [            . Vh_d ]\n",
        "#              [         .     ] [             . sigma_d ]  [            .      ]\n",
        "#\n",
        "#\n",
        "#  Uncomment these lines (one at a time) to check that U_use, sigma_use, and Vh_use are the right sizes, as well as U_d, sigma_d, and Vh_d\n",
        "U_use.shape\n",
        "#sigma_use.shape\n",
        "#Vh_use.shape\n",
        "#U_d.shape\n",
        "#sigma_d.shape\n",
        "#Vh_d.shape"
      ],
      "execution_count": 0,
      "outputs": [
        {
          "output_type": "execute_result",
          "data": {
            "text/plain": [
              "(10, 10)"
            ]
          },
          "metadata": {
            "tags": []
          },
          "execution_count": 34
        }
      ]
    },
    {
      "cell_type": "code",
      "metadata": {
        "id": "Mm72yqKVT7jz",
        "colab_type": "code",
        "outputId": "8eae7387-c2d6-48b1-c4bf-e145fd890abf",
        "colab": {
          "base_uri": "https://localhost:8080/",
          "height": 136
        }
      },
      "source": [
        "#  If we use Singular Value Decomposition to break down M as a product of matrices\n",
        "#  M = U sigma Vh.conjugate_transpose()\n",
        "#  Then the part of A which corresponds to non-zero singular values is:\n",
        "#  M_use = U_use sigma_use Vh_use.conjugate_transpose()\n",
        "#\n",
        "#  So, the equation Mx = b becomes:  (U_use sigma_use Vh_use.conjugate_transpose()) x = b\n",
        "#  or\n",
        "#  svd_sol = (U_use sigma_use Vh_use.conjugate_transpose()).inverse() b\n",
        "#  or\n",
        "#  svd_sol = Vh_use * Sigma_use.inverse() * U_use.transpose() * b\n",
        "#  (since Vh_use.conjugate_transpose() = Vh_use.inverse() and U_use.transpose() = U_use.inverse() )\n",
        "svdsol = (Vh_use @ linalg.inv(sigma_use) @ U_use.transpose()) @ b\n",
        "svdsol"
      ],
      "execution_count": 0,
      "outputs": [
        {
          "output_type": "execute_result",
          "data": {
            "text/plain": [
              "matrix([[-0.15612777],\n",
              "        [ 0.21222592],\n",
              "        [-0.24466766],\n",
              "        [ 0.4404852 ],\n",
              "        [-0.21815535],\n",
              "        [-0.19221402],\n",
              "        [ 4.93960011]])"
            ]
          },
          "metadata": {
            "tags": []
          },
          "execution_count": 16
        }
      ]
    },
    {
      "cell_type": "markdown",
      "metadata": {
        "id": "NUyAAGKI424a",
        "colab_type": "text"
      },
      "source": [
        "We can test our solution against the output of our original system.\n",
        "\n",
        "The original output in our system is represented by $\\vec{b}$.\n",
        "\n",
        "Our suggested solution to $M\\vec{x} = \\vec{b}$ is $\\vec{svdsol}$.  That is, we think\n",
        "\n",
        "$$ M \\vec{svdsol} \\approx \\vec{b}$$\n",
        "\n",
        "If we have a good fit, then \n",
        "\n",
        "$$\\vec{b} - M \\vec{svdsol} \\approx 0$$\n",
        "\n",
        "To test our solution, we find the) magnitude of $\\vec{b} - M\\vec{svdsol}$:"
      ]
    },
    {
      "cell_type": "code",
      "metadata": {
        "id": "hC0UDpjX43HF",
        "colab_type": "code",
        "outputId": "b797fa3d-cbc4-4252-c250-c826436456d7",
        "colab": {
          "base_uri": "https://localhost:8080/",
          "height": 34
        }
      },
      "source": [
        "#  Let's see how close this actually gets us by comparing the original b vector to the result of Mc:\n",
        "error = ((b-M*svdsol).transpose() * (b-M*svdsol))[0,0]\n",
        "error**0.5"
      ],
      "execution_count": 0,
      "outputs": [
        {
          "output_type": "execute_result",
          "data": {
            "text/plain": [
              "6.785127467438633"
            ]
          },
          "metadata": {
            "tags": []
          },
          "execution_count": 17
        }
      ]
    },
    {
      "cell_type": "code",
      "metadata": {
        "id": "6F6M7Y3I5bGY",
        "colab_type": "code",
        "outputId": "86026ac1-d31f-4849-cb96-86a0bf0490d9",
        "colab": {
          "base_uri": "https://localhost:8080/",
          "height": 295
        }
      },
      "source": [
        "#Show a plot of the solutions using the best-fit method, and the SVD method:\n",
        "\n",
        "# We'll specify that x is a variable:\n",
        "x = sym.symbols('x')\n",
        "\n",
        "xdata = []\n",
        "fdata = []\n",
        "#set up our 100 data points on the interval from (-3, 3):\n",
        "xdata = np.array(range(100))/(100/6) - 3\n",
        "# find the ouput for our function on each data point:\n",
        "fdata = 4 - 3*xdata**2 + 5*xdata**6\n",
        "\n",
        "#construct the solution from svdsol\n",
        "svd_fit = svdsol[0,0] + svdsol[1,0]*xdata + svdsol[2,0]*(xdata**2) + svdsol[3,0]*(xdata**3) + svdsol[4,0]*(xdata**4) + svdsol[5,0]*(xdata**5) + svdsol[6,0]*(xdata**6)\n",
        "# Create the actual plot in red, and our datapoints in blue,\n",
        "# and the svd solution in aqua:  \n",
        "plt.plot(xdata,fdata, color='red', linewidth=2 ) + plt.plot(actual_data_x, actual_data_y, 'bo', alpha=0.3) + plt.plot(xdata, svd_fit, 'aqua')\n",
        "\n",
        "#Restrict the output values to this range:\n",
        "plt.ylim(-30,30)\n",
        "# Add a title\n",
        "plt.title('Our test data (blue) for the original function (red)  and svd solution (aqua)')\n",
        "\n",
        "# Add X and y Label\n",
        "plt.xlabel('x axis')\n",
        "plt.ylabel('output')\n",
        "\n",
        "# Add a grid\n",
        "plt.grid(alpha=.4,linestyle='--')"
      ],
      "execution_count": 0,
      "outputs": [
        {
          "output_type": "display_data",
          "data": {
            "image/png": "[encoded data removed]",
            "text/plain": [
              "<Figure size 432x288 with 1 Axes>"
            ]
          },
          "metadata": {
            "tags": [],
            "needs_background": "light"
          }
        }
      ]
    },
    {
      "cell_type": "markdown",
      "metadata": {
        "id": "NKBuj3wo5r79",
        "colab_type": "text"
      },
      "source": [
        "#0.5  Finding a better solution\n",
        "\n",
        "\n",
        "Both the above solutions give really bad approximations to the polynomial  \n",
        "$$f(x) = 4 -3x^2 +5x^6$$\n",
        "\n",
        "Why?  We only used three data points for our data.  Go back and modify the code so that you use *MORE DATA*\n",
        "\n",
        "(Hint:  You have to change two of the '3' numbers in the code above:  One to generate more data; the other to use the right number of singular values for your data)\n",
        "\n",
        "The graph below should show both the best-fit and svd solution:"
      ]
    },
    {
      "cell_type": "code",
      "metadata": {
        "id": "jfQsu02SYVQ-",
        "colab_type": "code",
        "outputId": "8d0d7606-acfe-4a68-cf88-95e52d6fb019",
        "colab": {
          "base_uri": "https://localhost:8080/",
          "height": 295
        }
      },
      "source": [
        "#Show a plot of the solutions using the best-fit method, and the SVD method:\n",
        "\n",
        "# We'll specify that x is a variable:\n",
        "x = sym.symbols('x')\n",
        "\n",
        "xdata = []\n",
        "fdata = []\n",
        "#set up our 100 data points on the interval from (-3, 3):\n",
        "xdata = np.array(range(100))/(100/6) - 3\n",
        "# find the ouput for our function on each data point:\n",
        "fdata = 4 - 3*xdata**2 + 5*xdata**6\n",
        "\n",
        "#construct the solution from bestfit:\n",
        "best_fit = c[0,0] + c[1,0]*xdata + c[2,0]*(xdata**2) + c[3,0]*(xdata**3) + c[4,0]*(xdata**4) + c[5,0]*(xdata**5) + c[6,0]*(xdata**6)\n",
        "\n",
        "#construct the solution from svdsol\n",
        "svd_fit = svdsol[0,0] + svdsol[1,0]*xdata + svdsol[2,0]*(xdata**2) + svdsol[3,0]*(xdata**3) + svdsol[4,0]*(xdata**4) + svdsol[5,0]*(xdata**5) + svdsol[6,0]*(xdata**6)\n",
        "\n",
        "# Create the actual plot in red, and our datapoints in blue,\n",
        "# the best-fit method in green, and the svd solution in aqua:  \n",
        "plt.plot(xdata,fdata, color='red', linewidth=2 ) + plt.plot(actual_data_x, actual_data_y, 'bo', alpha=0.3) + plt.plot(xdata,best_fit, color='green') + plt.plot(xdata, svd_fit, 'aqua')\n",
        "\n",
        "\n",
        "#Restrict the output values to this range:\n",
        "plt.ylim(-30,30)\n",
        "# Add a title\n",
        "plt.title('Our test data (blue) for the original function (red); our best-fit solution (green);  and svd solution (aqua)')\n",
        "\n",
        "# Add X and y Label\n",
        "plt.xlabel('x axis')\n",
        "plt.ylabel('output')\n",
        "\n",
        "# Add a grid\n",
        "plt.grid(alpha=.4,linestyle='--')"
      ],
      "execution_count": 0,
      "outputs": [
        {
          "output_type": "display_data",
          "data": {
            "image/png": "[encoded data removed]",
            "text/plain": [
              "<Figure size 432x288 with 1 Axes>"
            ]
          },
          "metadata": {
            "tags": [],
            "needs_background": "light"
          }
        }
      ]
    },
    {
      "cell_type": "code",
      "metadata": {
        "id": "anbAm6nrY_xc",
        "colab_type": "code",
        "colab": {}
      },
      "source": [
        ""
      ],
      "execution_count": 0,
      "outputs": []
    }
  ]
}