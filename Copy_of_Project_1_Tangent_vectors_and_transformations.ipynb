{
  "nbformat": 4,
  "nbformat_minor": 0,
  "metadata": {
    "colab": {
      "name": "Copy of Project 1:  Tangent vectors and transformations ",
      "provenance": [],
      "include_colab_link": true
    },
    "kernelspec": {
      "name": "python3",
      "display_name": "Python 3"
    }
  },
  "cells": [
    {
      "cell_type": "markdown",
      "metadata": {
        "id": "view-in-github",
        "colab_type": "text"
      },
      "source": [
        "<a href=\"https://colab.research.google.com/github/javers12/AdvLinearAlgebra/blob/master/Copy_of_Project_1_Tangent_vectors_and_transformations.ipynb\" target=\"_parent\"><img src=\"https://colab.research.google.com/assets/colab-badge.svg\" alt=\"Open In Colab\"/></a>"
      ]
    },
    {
      "cell_type": "markdown",
      "metadata": {
        "id": "57j2zq31_0qa",
        "colab_type": "text"
      },
      "source": [
        "# Project 1:  Tangent vectors and transformations"
      ]
    },
    {
      "cell_type": "markdown",
      "metadata": {
        "id": "ngQ6BrES_7-Y",
        "colab_type": "text"
      },
      "source": [
        "For this project, we'll look at the transformations arising from each of the matrices below:\n",
        "\n",
        "$$ A = \\left( \\begin{array}{ccc} 0 & -1 & 0 \\\\ 1 & 0 & 0 \\\\ 0 & 0 & 0 \\\\ \\end{array} \\right) \\hspace{2cm}\n",
        "B = \\left( \\begin{array}{ccc} 0 & 0 & 0 \\\\ 0 & 0 & -1 \\\\ 0 & 1 & 0 \\\\ \\end{array} \\right) \\hspace{2cm}\n",
        "C = \\left( \\begin{array}{ccc} 0 & 0 & 1 \\\\ 0 & 0 & 0 \\\\ -1 & 0 & 0 \\\\ \\end{array} \\right) \\hspace{2cm}\n",
        "$$\n",
        "\n",
        "The computational part of this project involves the following steps:\n",
        "\n",
        "1.  The columns of a matrix tell us what happens to the basis vectors in a vector space.  Explain what matrices $A$, $B$, and $C$ do to the standard basis elements for $\\mathbb{R}^3$.  (Note:  Bonus points for creating a graph showing what happens to each basis vector.  e.g. For A, the initial vector $e_1$ is sent in the direction $(0, 1, 0)$, so draw an arrow from $(1, 0, 0)$ to $(1, 1, 0)$. )\n",
        "\n",
        "2.  Compute $exp(t\\,A), exp(t\\,B)$, and $exp(t\\,C)$ for each matrix, which is defined as\n",
        "  $$ exp(M) = I_n + M + \\frac{1}{2!} M^2 + \\frac{1}{3!} M^3 + \\cdots + \\frac{1}{m!} M^m + \\cdots $$\n",
        "\n",
        "  To do this, separately compute $$(Mt)^0, (Mt)^1, (Mt)^2, (Mt)^3, (Mt)^4, (Mt)^5, (Mt)^6$$ and combine them to form the first several terms of $exp(Mt)$ for each of your three matrices.\n",
        "\n",
        "  \n",
        "3.  We can think of each of the $3 \\times 3$ matrices in part 2 as maps, or transformations $\\gamma: \\mathbb{R} \\to \\mathbb{M}_{3\\times3}$, which depending on $t$ and which act on the space $\\mathbb{R}^3$:\n",
        "\n",
        "$$ \\gamma_A(t) = exp(t\\,A) \\hspace{2cm} \\gamma_B(t) = exp(t\\, B) \\hspace{2cm} \\gamma_C(t) = exp(t\\,C)$$\n",
        "What do each of these matrices do to the space $\\mathbb{R}^3$?\n",
        "\n",
        "4.  What causes more rotation, $\\gamma_A(t) \\circ \\gamma_A(t)$ or  $\\gamma_A(2t)$?\n",
        "\n",
        "5. If we pick two of the transformations, say $\\gamma_A(t)$ and $\\gamma_B(t)$, and then apply them like so:\n",
        "$$  Q = \\gamma_B(-t) \\circ \\gamma_A(-t) \\circ \\gamma_B(t) \\circ \\gamma_A(t)$$\n",
        "the result is <b>not necessarily</b> the identity transformation!  Find this transformation $Q$ and describe what it does to $\\mathbb{R}^3$.\n",
        "\n",
        "6.  A tangent vector is found by taking a derivative (with respect to $t$) and evaluating that derivative (at $t = 0$).  Find the tangent vector of:\n",
        "\n",
        "$$  \\gamma_A(t)  \\hspace{2cm}  \\gamma_B(t) \\hspace{2cm}  \\gamma_C(t) \\hspace{2cm} Q$$\n",
        "\n",
        "** Note 1:  The `sym.diff(M, t)` code will take the derivative of matrix $M$ with respect to variable $t$.  Then, evaluate the result with $t=0$.\n",
        "\n",
        "** Note 2: The tangent vector of $Q$ will be the 0 matrix; In this case, use the second derivative of $Q$ to form the tangent vector.\n",
        "\n",
        "\n",
        "\n",
        "7.  Compute the product $[ A, B ] = AB - BA$.  Compare this result to the tangent vectors in the previous problem.\n"
      ]
    },
    {
      "cell_type": "markdown",
      "metadata": {
        "id": "0nfOKjAOHMul",
        "colab_type": "text"
      },
      "source": [
        "# Code\n",
        "Put your code in this section. \n",
        "We'll use the package sympy to do symbolic computations in our code.\n",
        "\n",
        "Be sure to write comments in your code.\n",
        "Comments start with # symbols.\n",
        "\n",
        "Lastly, create an organization for your code.  (This organization is up to you!  )"
      ]
    },
    {
      "cell_type": "code",
      "metadata": {
        "id": "dNAjzxLD2rlL",
        "colab_type": "code",
        "outputId": "040682ac-1347-4d0d-b3cd-61e13d2a8e71",
        "colab": {
          "base_uri": "https://localhost:8080/",
          "height": 34
        }
      },
      "source": [
        "import matplotlib.pyplot as plt\n",
        "import sympy as sym\n",
        "\n",
        "\n",
        "# Comments start with a hash mark.\n",
        "\n",
        "# We'll specify that x and t are variables:\n",
        "x, t = sym.symbols('x, t')\n",
        "\n",
        "# this is a expression:\n",
        "expr = (x + t)**2\n",
        "\n",
        "# Use 'sym.latex(...) to produce the math expression in latex.  \n",
        "# Then, copy and paste the latex into a text field \n",
        "# Put it inside single dollar signs $ ... $ to typeset the mathematics inline,\n",
        "# or inside double dollar signs $$ ... $$ to center the math on its own line. \n",
        "sym.latex(expr.expand())\n",
        "\n",
        "# How to create a matrix S:\n",
        "S = sym.Matrix([[0, 1, 0], [1, 0, 0], [0, 0, 1]])\n",
        "# or a 3x3 identity matrix:\n",
        "I3 = sym.eye(3)\n",
        "\n",
        "# How to multiply the matrix S by the variable t:\n",
        "St = S*t\n",
        "\n",
        "# How to output the latex so the matrix looks nice:\n",
        "print(sym.latex(St))"
      ],
      "execution_count": 0,
      "outputs": [
        {
          "output_type": "stream",
          "text": [
            "\\left[\\begin{matrix}0 & t & 0\\\\t & 0 & 0\\\\0 & 0 & t\\end{matrix}\\right]\n"
          ],
          "name": "stdout"
        }
      ]
    },
    {
      "cell_type": "code",
      "metadata": {
        "id": "b6Leg3fkaR0b",
        "colab_type": "code",
        "outputId": "3feb9c86-3cd9-47d0-be3b-4663a490dce2",
        "colab": {
          "base_uri": "https://localhost:8080/",
          "height": 71
        }
      },
      "source": [
        "import math\n",
        "A = sym.Matrix([[0, -1, 0], [1, 0, 0], [0, 0, 0]])\n",
        "B = sym.Matrix([[0, 0, 0], [0, 0, -1], [0, 1, 0]])\n",
        "C = sym.Matrix([[0, 0, 1], [0, 0, 0], [-1, 0, 0]])\n",
        "#print(sym.latex(A))\n",
        "\n",
        "#2) Compute \n",
        "x, t = sym.symbols('x, t')\n",
        "I = sym.eye(3)\n",
        "At = A*t\n",
        "Bt = B*t\n",
        "Ct = C*t\n",
        "\n",
        "#print(sym.latex(I3))\n",
        "\n",
        "#Exponentiate\n",
        "def exp_6(M):\n",
        "  exp_At = I + M + (1/2)*M**2 + (1/math.factorial(3))*M**3 + \\\n",
        "  (1/math.factorial(4))*M**4 +(1/math.factorial(5))*M**5 + (1/math.factorial(6))*M**6\n",
        "  return exp_At\n",
        "def exp_5(M):\n",
        "  exp_At = I + M + (1/2)*M**2 + (1/math.factorial(3))*M**3 + \\\n",
        "  (1/math.factorial(4))*M**4 +(1/math.factorial(5))*M**5 \n",
        "  return exp_At\n",
        "def exp_4(M):\n",
        "  exp_At = I + M + (1/2)*M**2 + (1/math.factorial(3))*M**3 + \\\n",
        "  (1/math.factorial(4))*M**4 \n",
        "  return exp_At\n",
        "def exp_3(M):\n",
        "  exp_At = I + M + (1/2)*M**2 + (1/math.factorial(3))*M**3 \n",
        "  return exp_At\n",
        "def exp_2(M):\n",
        "  exp_At = I + M + (1/2)*M**2 \n",
        "  return exp_At\n",
        "def exp_1(M):\n",
        "  exp_At = I + M\n",
        "  return exp_At\n",
        "def exp_0(M):\n",
        "  return I\n",
        "\n",
        "#for At\n",
        "At_6 = exp_6(At)\n",
        "At_5 = exp_5(At)\n",
        "At_4 = exp_4(At)\n",
        "At_3 = exp_3(At)\n",
        "At_2 = exp_2(At)\n",
        "At_1 = exp_1(At)\n",
        "At_0 = exp_0(At)\n",
        "\n",
        "#for Bt\n",
        "Bt_6 = exp_6(Bt)\n",
        "Bt_5 = exp_5(Bt)\n",
        "Bt_4 = exp_4(Bt)\n",
        "Bt_3 = exp_3(Bt)\n",
        "Bt_2 = exp_2(Bt)\n",
        "Bt_1 = exp_1(Bt)\n",
        "Bt_0 = exp_0(Bt)\n",
        "\n",
        "#for Ct\n",
        "Ct_6 = exp_6(Ct)\n",
        "Ct_5 = exp_5(Ct)\n",
        "Ct_4 = exp_4(Ct)\n",
        "Ct_3 = exp_3(Ct)\n",
        "Ct_2 = exp_2(Ct)\n",
        "Ct_1 = exp_1(Ct)\n",
        "Ct_0 = exp_0(Ct)\n",
        "\n",
        "\n",
        "#cos(t) = 1 - 1/2!(t**2) + 1/4!(t**4)....\n",
        "#sin(t) = t - 1/3!(t**3) + 1/(5!)(t**5)....\n",
        "#These are the sines and cosines...if start from 1 it is cos(t)\n",
        "\n",
        "print(Bt_6)\n",
        "print(Ct_6)"
      ],
      "execution_count": 0,
      "outputs": [
        {
          "output_type": "stream",
          "text": [
            "Matrix([[1, 0, 0], [0, -0.00138888888888889*t**6 + 0.0416666666666667*t**4 - 0.5*t**2 + 1, -0.00833333333333333*t**5 + 0.166666666666667*t**3 - t], [0, 0.00833333333333333*t**5 - 0.166666666666667*t**3 + t, -0.00138888888888889*t**6 + 0.0416666666666667*t**4 - 0.5*t**2 + 1]])\n",
            "Matrix([[-0.00138888888888889*t**6 + 0.0416666666666667*t**4 - 0.5*t**2 + 1, 0, 0.00833333333333333*t**5 - 0.166666666666667*t**3 + t], [0, 1, 0], [-0.00833333333333333*t**5 + 0.166666666666667*t**3 - t, 0, -0.00138888888888889*t**6 + 0.0416666666666667*t**4 - 0.5*t**2 + 1]])\n"
          ],
          "name": "stdout"
        }
      ]
    },
    {
      "cell_type": "code",
      "metadata": {
        "id": "Zoqhw37UbA_W",
        "colab_type": "code",
        "outputId": "df518609-8daa-4efa-cdbb-df47ab43417c",
        "colab": {
          "base_uri": "https://localhost:8080/",
          "height": 68
        }
      },
      "source": [
        "#3)\n",
        "\n",
        "exp_tA = sym.Matrix([[sym.cos(t),-sym.sin(t),0],[sym.sin(t),sym.cos(t),0],[0,0,1]])\n",
        "print(exp_tA)\n",
        "exp_tB = sym.Matrix([[1,0,0],[0,sym.cos(t),-sym.sin(t)],[0,sym.cos(t),sym.sin(t)]])\n",
        "print(exp_tB)\n",
        "exp_tC = sym.Matrix([[sym.cos(t),sym.cos(t),0],[0,1,0],[-sym.cos(t),0,sym.sin(t)]])\n",
        "print(exp_tC)\n"
      ],
      "execution_count": 0,
      "outputs": [
        {
          "output_type": "stream",
          "text": [
            "Matrix([[cos(t), -sin(t), 0], [sin(t), cos(t), 0], [0, 0, 1]])\n",
            "Matrix([[1, 0, 0], [0, cos(t), -sin(t)], [0, cos(t), sin(t)]])\n",
            "Matrix([[cos(t), cos(t), 0], [0, 1, 0], [-cos(t), 0, sin(t)]])\n"
          ],
          "name": "stdout"
        }
      ]
    },
    {
      "cell_type": "markdown",
      "metadata": {
        "id": "2hehNv0Ubb1T",
        "colab_type": "text"
      },
      "source": [
        "First matrix rotates anticlockwise along z-axis\n",
        "Second matrix rotates counterclockwise along x-axis\n",
        "Third matrix rotates countclockwise along y-axis\n",
        "4)What causes more rotation"
      ]
    },
    {
      "cell_type": "code",
      "metadata": {
        "id": "ZHidnS8GbbWW",
        "colab_type": "code",
        "outputId": "e1e54a2c-ef26-4163-b394-ee976f9204c7",
        "colab": {
          "base_uri": "https://localhost:8080/",
          "height": 51
        }
      },
      "source": [
        "print(sym.trigsimp(exp_tA * exp_tA))\n",
        "exp_2ta = sym.Matrix([[sym.cos(2*t),-sym.sin(2*t),0],[sym.sin(2*t),sym.cos(2*t),0],[0,0,1]])\n",
        "print(exp_2ta)"
      ],
      "execution_count": 0,
      "outputs": [
        {
          "output_type": "stream",
          "text": [
            "Matrix([[cos(2*t), -sin(2*t), 0], [sin(2*t), cos(2*t), 0], [0, 0, 1]])\n",
            "Matrix([[cos(2*t), -sin(2*t), 0], [sin(2*t), cos(2*t), 0], [0, 0, 1]])\n"
          ],
          "name": "stdout"
        }
      ]
    },
    {
      "cell_type": "code",
      "metadata": {
        "id": "yLWEXHvwblF4",
        "colab_type": "code",
        "outputId": "9e702cc6-0bd0-4ea6-ed3f-2f416255a693",
        "colab": {
          "base_uri": "https://localhost:8080/",
          "height": 54
        }
      },
      "source": [
        "exp_neg_tb = sym.Matrix([[1,0,0],[0,sym.cos(-t),-sym.sin(-t)],[0,sym.cos(-t),sym.sin(-t)]])\n",
        "exp_neg_tA = sym.Matrix([[sym.cos(-t),-sym.sin(-t),0],[sym.sin(-t),sym.cos(-t),0],[0,0,1]])\n",
        "exp_neg_tC = sym.Matrix([[sym.cos(-t),sym.cos(-t),0],[0,1,0],[-sym.cos(-t),0,sym.sin(-t)]])\n",
        "Q = exp_neg_tb  * exp_neg_tA *  exp_tB * exp_tA \n",
        "print(sym.trigsimp(Q))"
      ],
      "execution_count": 0,
      "outputs": [
        {
          "output_type": "stream",
          "text": [
            "Matrix([[(sin(t)**2 + cos(t))*cos(t), (cos(t) - 1)*sin(t)*cos(t), -sin(t)**2], [(sqrt(2)*sin(t)*sin(t + pi/4) + cos(t)**3 - 1)*sin(t), sqrt(2)*sin(t)*sin(t + pi/4)*cos(t) + cos(t)**4, (sin(t) - cos(t)**2)*sin(t)], [(-sqrt(2)*sin(t)*cos(t + pi/4) + cos(t)**3 - 1)*sin(t), -sqrt(2)*sin(t)*cos(t)*cos(t + pi/4) + cos(t)**4, (sin(t)**2 - sin(t) - 1)*sin(t)]])\n"
          ],
          "name": "stdout"
        }
      ]
    },
    {
      "cell_type": "code",
      "metadata": {
        "id": "_ZRw78vRbvPn",
        "colab_type": "code",
        "colab": {}
      },
      "source": [
        ""
      ],
      "execution_count": 0,
      "outputs": []
    },
    {
      "cell_type": "code",
      "metadata": {
        "id": "OsgUQWF7bwxY",
        "colab_type": "code",
        "colab": {}
      },
      "source": [
        "Q_0 = sym.Matrix([\n",
        "[                          sym.sin(0)**2* sym.cos(0) +  sym.cos(0)**2,                        sym.sin(0)* sym.cos(0)**2 -  sym.sin(0)* sym.cos(0),                    - sym.sin(0)**2],\n",
        "[ ( sym.sin(0)* sym.cos(0) +  sym.cos(0)**3)* sym.sin(0) -  sym.sin(0)* sym.cos(0)**2,  ( sym.sin(0)* sym.cos(0) +  sym.cos(0)**3)* sym.cos(0) +  sym.sin(0)**2* sym.cos(0),   sym.sin(0)**2 -  sym.sin(0)* sym.cos(0)**2],\n",
        "[(- sym.sin(0)* sym.cos(0) +  sym.cos(0)**3)* sym.sin(0) -  sym.sin(0)* sym.cos(0)**2, (- sym.sin(0)* sym.cos(0) +  sym.cos(0)**3)* sym.cos(0) +  sym.sin(0)**2* sym.cos(0), - sym.sin(0)**2 -  sym.sin(0)* sym.cos(0)**2]])"
      ],
      "execution_count": 0,
      "outputs": []
    },
    {
      "cell_type": "code",
      "metadata": {
        "id": "kIHed6BBcGqG",
        "colab_type": "code",
        "colab": {}
      },
      "source": [
        "deriv_exp_tA = sym.diff(exp_tA,t)\n",
        "deriv_exp_tB = sym.diff(exp_tB,t)\n",
        "deriv_exp_tC = sym.diff(exp_tC,t)\n",
        "deriv_exp_Q = sym.diff(Q,t,2)\n",
        "print(deriv_exp_tA)\n",
        "print(deriv_exp_tB)\n",
        "print(deriv_exp_tC)\n",
        "print(sym.trigsimp(deriv_exp_Q))"
      ],
      "execution_count": 0,
      "outputs": []
    },
    {
      "cell_type": "code",
      "metadata": {
        "id": "-2SlTz0Jc1Md",
        "colab_type": "code",
        "outputId": "8a4aa23b-7c41-40f6-ab82-550f2a7d3e64",
        "colab": {
          "base_uri": "https://localhost:8080/",
          "height": 85
        }
      },
      "source": [
        "#Evaluate  deriv_exp_tA\n",
        "sym.Matrix([[-sym.sin(0), -sym.cos(0), 0], [sym.cos(0), -sym.sin(0), 0], [0, 0, 0]])\n"
      ],
      "execution_count": 0,
      "outputs": [
        {
          "output_type": "execute_result",
          "data": {
            "text/plain": [
              "Matrix([\n",
              "[0, -1, 0],\n",
              "[1,  0, 0],\n",
              "[0,  0, 0]])"
            ]
          },
          "metadata": {
            "tags": []
          },
          "execution_count": 18
        }
      ]
    },
    {
      "cell_type": "code",
      "metadata": {
        "id": "sIjBA4B_c9Ma",
        "colab_type": "code",
        "outputId": "51587f07-92c5-4078-a9a6-8979d9510d13",
        "colab": {
          "base_uri": "https://localhost:8080/",
          "height": 85
        }
      },
      "source": [
        "#7 AB - BA\n",
        "A*B - B*A"
      ],
      "execution_count": 0,
      "outputs": [
        {
          "output_type": "execute_result",
          "data": {
            "text/plain": [
              "Matrix([\n",
              "[ 0, 0, 1],\n",
              "[ 0, 0, 0],\n",
              "[-1, 0, 0]])"
            ]
          },
          "metadata": {
            "tags": []
          },
          "execution_count": 19
        }
      ]
    },
    {
      "cell_type": "code",
      "metadata": {
        "id": "FzWCVN4Kc06r",
        "colab_type": "code",
        "colab": {}
      },
      "source": [
        ""
      ],
      "execution_count": 0,
      "outputs": []
    },
    {
      "cell_type": "markdown",
      "metadata": {
        "id": "BfTmH07ib3VM",
        "colab_type": "text"
      },
      "source": [
        ""
      ]
    },
    {
      "cell_type": "markdown",
      "metadata": {
        "id": "5wMQ0SGi5_aP",
        "colab_type": "text"
      },
      "source": [
        "This is the matrix, but two things need to be fixed:\n",
        "\n",
        "$$ \\\\left[\\\\begin{matrix}0 & t & 0\\\\\\\\t & 0 & 0\\\\\\\\0 & 0 & t\\\\end{matrix}\\\\right] $$\n",
        "\n",
        "1)  Replace every \\\\ with a single \\\n",
        "2)  Put some space before the \\ marks, or after the \\\\ marks\n",
        "\n",
        "$$ \\left[ \\begin{matrix}0 & t & 0 \\\\ t & 0 & 0 \\\\ 0 & 0 & t \\end{matrix} \\right] $$\n"
      ]
    },
    {
      "cell_type": "markdown",
      "metadata": {
        "id": "hPTaQg2aHT_L",
        "colab_type": "text"
      },
      "source": [
        "# Executive Summary\n",
        "\n",
        "In this section, your goal is to write a 2 page report giving an overview of the project given above.  This does not mean provide the answers to each question above.  Instead, think of the important relationships between the matrices, the continuous maps, tangent vectors, and transformations that you found above.  Those pieces fit together into one coherent story.\n",
        "\n",
        "In your executive summary, describe that story.  Your executive summary does not need to include complex computations, but it should include the results of relevant computations using math objects like matrices, derivatives, or tangent vectors.\n",
        "\n",
        "At  the end of your executive summary, you should also include two short paragraphs detailing (1) an important or unexpected result, and (2) a challenge you faced in the project and how you dealt with that challenge."
      ]
    },
    {
      "cell_type": "code",
      "metadata": {
        "id": "Oneug-i0_wLj",
        "colab_type": "code",
        "colab": {}
      },
      "source": [
        ""
      ],
      "execution_count": 0,
      "outputs": []
    }
  ]
}