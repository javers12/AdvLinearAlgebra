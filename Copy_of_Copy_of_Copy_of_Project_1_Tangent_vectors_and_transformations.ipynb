{
  "nbformat": 4,
  "nbformat_minor": 0,
  "metadata": {
    "colab": {
      "name": "Copy of Copy of Copy of Project 1:  Tangent vectors and transformations ",
      "provenance": [],
      "collapsed_sections": [],
      "include_colab_link": true
    },
    "kernelspec": {
      "name": "python3",
      "display_name": "Python 3"
    }
  },
  "cells": [
    {
      "cell_type": "markdown",
      "metadata": {
        "id": "view-in-github",
        "colab_type": "text"
      },
      "source": [
        "<a href=\"https://colab.research.google.com/github/javers12/AdvLinearAlgebra/blob/master/Copy_of_Copy_of_Copy_of_Project_1_Tangent_vectors_and_transformations.ipynb\" target=\"_parent\"><img src=\"https://colab.research.google.com/assets/colab-badge.svg\" alt=\"Open In Colab\"/></a>"
      ]
    },
    {
      "cell_type": "markdown",
      "metadata": {
        "id": "57j2zq31_0qa",
        "colab_type": "text"
      },
      "source": [
        "# Project 1:  Tangent vectors and transformations"
      ]
    },
    {
      "cell_type": "markdown",
      "metadata": {
        "id": "ngQ6BrES_7-Y",
        "colab_type": "text"
      },
      "source": [
        "For this project, we'll look at the transformations arising from each of the matrices below:\n",
        "\n",
        "$$ A = \\left( \\begin{array}{ccc} 0 & -1 & 0 \\\\ 1 & 0 & 0 \\\\ 0 & 0 & 0 \\\\ \\end{array} \\right) \\hspace{2cm}\n",
        "B = \\left( \\begin{array}{ccc} 0 & 0 & 0 \\\\ 0 & 0 & -1 \\\\ 0 & 1 & 0 \\\\ \\end{array} \\right) \\hspace{2cm}\n",
        "C = \\left( \\begin{array}{ccc} 0 & 0 & 1 \\\\ 0 & 0 & 0 \\\\ -1 & 0 & 0 \\\\ \\end{array} \\right) \\hspace{2cm}\n",
        "$$\n",
        "\n",
        "The computational part of this project involves the following steps:\n",
        "\n",
        "1.  The columns of a matrix tell us what happens to the basis vectors in a vector space.  Explain what matrices $A$, $B$, and $C$ do to the standard basis elements for $\\mathbb{R}^3$.  (Note:  Bonus points for creating a graph showing what happens to each basis vector.  e.g. For A, the initial vector $e_1$ is sent in the direction $(0, 1, 0)$, so draw an arrow from $(1, 0, 0)$ to $(1, 1, 0)$. )\n",
        "\n",
        "2.  Compute $exp(t\\,A), exp(t\\,B)$, and $exp(t\\,C)$ for each matrix, which is defined as\n",
        "  $$ exp(M) = I_n + M + \\frac{1}{2!} M^2 + \\frac{1}{3!} M^3 + \\cdots + \\frac{1}{m!} M^m + \\cdots $$\n",
        "\n",
        "  To do this, separately compute $$(Mt)^0, (Mt)^1, (Mt)^2, (Mt)^3, (Mt)^4, (Mt)^5, (Mt)^6$$ and combine them to form the first several terms of $exp(Mt)$ for each of your three matrices.\n",
        "\n",
        "  \n",
        "3.  We can think of each of the $3 \\times 3$ matrices in part 2 as maps, or transformations $\\gamma: \\mathbb{R} \\to \\mathbb{M}_{3\\times3}$, which depending on $t$ and which act on the space $\\mathbb{R}^3$:\n",
        "\n",
        "$$ \\gamma_A(t) = exp(t\\,A) \\hspace{2cm} \\gamma_B(t) = exp(t\\, B) \\hspace{2cm} \\gamma_C(t) = exp(t\\,C)$$\n",
        "What do each of these matrices do to the space $\\mathbb{R}^3$?\n",
        "\n",
        "4.  What causes more rotation, $\\gamma_A(t) \\circ \\gamma_A(t)$ or  $\\gamma_A(2t)$?\n",
        "\n",
        "5. If we pick two of the transformations, say $\\gamma_A(t)$ and $\\gamma_B(t)$, and then apply them like so:\n",
        "$$  Q = \\gamma_B(-t) \\circ \\gamma_A(-t) \\circ \\gamma_B(t) \\circ \\gamma_A(t)$$\n",
        "the result is <b>not necessarily</b> the identity transformation!  Find this transformation $Q$ and describe what it does to $\\mathbb{R}^3$.\n",
        "\n",
        "6.  A tangent vector is found by taking a derivative (with respect to $t$) and evaluating that derivative (at $t = 0$).  Find the tangent vector of:\n",
        "\n",
        "$$  \\gamma_A(t)  \\hspace{2cm}  \\gamma_B(t) \\hspace{2cm}  \\gamma_C(t) \\hspace{2cm} Q$$\n",
        "\n",
        "** Note 1:  The `sym.diff(M, t)` code will take the derivative of matrix $M$ with respect to variable $t$.  Then, evaluate the result with $t=0$.\n",
        "\n",
        "** Note 2: The tangent vector of $Q$ will be the 0 matrix; In this case, use the second derivative of $Q$ to form the tangent vector.\n",
        "\n",
        "\n",
        "\n",
        "7.  Compute the product $[ A, B ] = AB - BA$.  Compare this result to the tangent vectors in the previous problem.\n"
      ]
    },
    {
      "cell_type": "markdown",
      "metadata": {
        "id": "0nfOKjAOHMul",
        "colab_type": "text"
      },
      "source": [
        "# Code\n",
        "Put your code in this section. \n",
        "We'll use the package sympy to do symbolic computations in our code.\n",
        "\n",
        "Be sure to write comments in your code.\n",
        "Comments start with # symbols.\n",
        "\n",
        "Lastly, create an organization for your code.  (This organization is up to you!  )"
      ]
    },
    {
      "cell_type": "code",
      "metadata": {
        "id": "dNAjzxLD2rlL",
        "colab_type": "code",
        "outputId": "2f8ceeee-4a1a-4793-f312-303d5cc84c7a",
        "colab": {
          "base_uri": "https://localhost:8080/",
          "height": 34
        }
      },
      "source": [
        "import matplotlib.pyplot as plt\n",
        "import sympy as sym\n",
        "\n",
        "\n",
        "# Comments start with a hash mark.\n",
        "\n",
        "# We'll specify that x and t are variables:\n",
        "x, t = sym.symbols('x, t')\n",
        "\n",
        "# this is a expression:\n",
        "expr = (x + t)**2\n",
        "\n",
        "# Use 'sym.latex(...) to produce the math expression in latex.  \n",
        "# Then, copy and paste the latex into a text field \n",
        "# Put it inside single dollar signs $ ... $ to typeset the mathematics inline,\n",
        "# or inside double dollar signs $$ ... $$ to center the math on its own line. \n",
        "sym.latex(expr.expand())\n",
        "\n",
        "# How to create a matrix S:\n",
        "S = sym.Matrix([[0, 1, 0], [1, 0, 0], [0, 0, 1]])\n",
        "# or a 3x3 identity matrix:\n",
        "I3 = sym.eye(3)\n",
        "\n",
        "# How to multiply the matrix S by the variable t:\n",
        "St = S*t\n",
        "\n",
        "# How to output the latex so the matrix looks nice:\n",
        "print(sym.latex(St))\n",
        "\n"
      ],
      "execution_count": 0,
      "outputs": [
        {
          "output_type": "stream",
          "text": [
            "\\left[\\begin{matrix}0 & t & 0\\\\t & 0 & 0\\\\0 & 0 & t\\end{matrix}\\right]\n"
          ],
          "name": "stdout"
        }
      ]
    },
    {
      "cell_type": "markdown",
      "metadata": {
        "id": "60GZHEN_Bfyp",
        "colab_type": "text"
      },
      "source": [
        "1) The 1st columns of the matrix A sends the (1,0,0) to (0,1,0)\n"
      ]
    },
    {
      "cell_type": "code",
      "metadata": {
        "id": "b4rDmQjv_ba8",
        "colab_type": "code",
        "outputId": "00961394-c9ef-4a67-f773-2c12501e2480",
        "colab": {
          "base_uri": "https://localhost:8080/",
          "height": 71
        }
      },
      "source": [
        "import math\n",
        "A = sym.Matrix([[0, -1, 0], [1, 0, 0], [0, 0, 0]])\n",
        "B = sym.Matrix([[0, 0, 0], [0, 0, -1], [0, 1, 0]])\n",
        "C = sym.Matrix([[0, 0, 1], [0, 0, 0], [-1, 0, 0]])\n",
        "#print(sym.latex(A))\n",
        "\n",
        "#2) Compute \n",
        "x, t = sym.symbols('x, t')\n",
        "I = sym.eye(3)\n",
        "At = A*t\n",
        "Bt = B*t\n",
        "Ct = C*t\n",
        "\n",
        "#print(sym.latex(I3))\n",
        "\n",
        "#Exponentiate\n",
        "def exp_6(M):\n",
        "  exp_At = I + M + (1/2)*M**2 + (1/math.factorial(3))*M**3 + \\\n",
        "  (1/math.factorial(4))*M**4 +(1/math.factorial(5))*M**5 + (1/math.factorial(6))*M**6\n",
        "  return exp_At\n",
        "def exp_5(M):\n",
        "  exp_At = I + M + (1/2)*M**2 + (1/math.factorial(3))*M**3 + \\\n",
        "  (1/math.factorial(4))*M**4 +(1/math.factorial(5))*M**5 \n",
        "  return exp_At\n",
        "def exp_4(M):\n",
        "  exp_At = I + M + (1/2)*M**2 + (1/math.factorial(3))*M**3 + \\\n",
        "  (1/math.factorial(4))*M**4 \n",
        "  return exp_At\n",
        "def exp_3(M):\n",
        "  exp_At = I + M + (1/2)*M**2 + (1/math.factorial(3))*M**3 \n",
        "  return exp_At\n",
        "def exp_2(M):\n",
        "  exp_At = I + M + (1/2)*M**2 \n",
        "  return exp_At\n",
        "def exp_1(M):\n",
        "  exp_At = I + M\n",
        "  return exp_At\n",
        "def exp_0(M):\n",
        "  return I\n",
        "\n",
        "#for At\n",
        "At_6 = exp_6(At)\n",
        "At_5 = exp_5(At)\n",
        "At_4 = exp_4(At)\n",
        "At_3 = exp_3(At)\n",
        "At_2 = exp_2(At)\n",
        "At_1 = exp_1(At)\n",
        "At_0 = exp_0(At)\n",
        "\n",
        "#for Bt\n",
        "Bt_6 = exp_6(Bt)\n",
        "Bt_5 = exp_5(Bt)\n",
        "Bt_4 = exp_4(Bt)\n",
        "Bt_3 = exp_3(Bt)\n",
        "Bt_2 = exp_2(Bt)\n",
        "Bt_1 = exp_1(Bt)\n",
        "Bt_0 = exp_0(Bt)\n",
        "\n",
        "#for Ct\n",
        "Ct_6 = exp_6(Ct)\n",
        "Ct_5 = exp_5(Ct)\n",
        "Ct_4 = exp_4(Ct)\n",
        "Ct_3 = exp_3(Ct)\n",
        "Ct_2 = exp_2(Ct)\n",
        "Ct_1 = exp_1(Ct)\n",
        "Ct_0 = exp_0(Ct)\n",
        "\n",
        "\n",
        "#cos(t) = 1 - 1/2!(t**2) + 1/4!(t**4)....\n",
        "#sin(t) = t - 1/3!(t**3) + 1/(5!)(t**5)....\n",
        "#These are the sines and cosines...if start from 1 it is cos(t)\n",
        "\n",
        "print(Bt_6)\n",
        "print(Ct_6)"
      ],
      "execution_count": 0,
      "outputs": [
        {
          "output_type": "stream",
          "text": [
            "Matrix([[1, 0, 0], [0, -0.00138888888888889*t**6 + 0.0416666666666667*t**4 - 0.5*t**2 + 1, -0.00833333333333333*t**5 + 0.166666666666667*t**3 - t], [0, 0.00833333333333333*t**5 - 0.166666666666667*t**3 + t, -0.00138888888888889*t**6 + 0.0416666666666667*t**4 - 0.5*t**2 + 1]])\n",
            "Matrix([[-0.00138888888888889*t**6 + 0.0416666666666667*t**4 - 0.5*t**2 + 1, 0, 0.00833333333333333*t**5 - 0.166666666666667*t**3 + t], [0, 1, 0], [-0.00833333333333333*t**5 + 0.166666666666667*t**3 - t, 0, -0.00138888888888889*t**6 + 0.0416666666666667*t**4 - 0.5*t**2 + 1]])\n"
          ],
          "name": "stdout"
        }
      ]
    },
    {
      "cell_type": "code",
      "metadata": {
        "id": "eacEYPT3Km-q",
        "colab_type": "code",
        "outputId": "8ca617e1-ae03-47ae-f921-af1e48a18dbb",
        "colab": {
          "base_uri": "https://localhost:8080/",
          "height": 68
        }
      },
      "source": [
        "\n",
        "#3)\n",
        "\n",
        "exp_tA = sym.Matrix([[sym.cos(t),-sym.sin(t),0],[sym.sin(t),sym.cos(t),0],[0,0,1]])\n",
        "print(exp_tA)\n",
        "exp_tB = sym.Matrix([[1,0,0],[0,sym.cos(t),-sym.sin(t)],[0,sym.cos(t),sym.sin(t)]])\n",
        "print(exp_tB)\n",
        "exp_tC = sym.Matrix([[sym.cos(t),sym.cos(t),0],[0,1,0],[-sym.cos(t),0,sym.sin(t)]])\n",
        "print(exp_tC)\n"
      ],
      "execution_count": 0,
      "outputs": [
        {
          "output_type": "stream",
          "text": [
            "Matrix([[cos(t), -sin(t), 0], [sin(t), cos(t), 0], [0, 0, 1]])\n",
            "Matrix([[1, 0, 0], [0, cos(t), -sin(t)], [0, cos(t), sin(t)]])\n",
            "Matrix([[cos(t), cos(t), 0], [0, 1, 0], [-cos(t), 0, sin(t)]])\n"
          ],
          "name": "stdout"
        }
      ]
    },
    {
      "cell_type": "code",
      "metadata": {
        "id": "ZMWlblIKTahc",
        "colab_type": "code",
        "colab": {}
      },
      "source": [
        "\n",
        "\n"
      ],
      "execution_count": 0,
      "outputs": []
    },
    {
      "cell_type": "markdown",
      "metadata": {
        "id": "56-D4VH4TxmU",
        "colab_type": "text"
      },
      "source": [
        "## First matrix rotates anticlockwise along z-axis\n",
        "## Second matrix rotates counterclockwise  along x-axis\n",
        "## Third matrix rotates countclockwise along y-axis\n",
        "4)What causes more rotation"
      ]
    },
    {
      "cell_type": "code",
      "metadata": {
        "id": "k4J7hzniVaLL",
        "colab_type": "code",
        "outputId": "d7fe0f52-012e-4c3e-b170-d562a02ecb6e",
        "colab": {
          "base_uri": "https://localhost:8080/",
          "height": 51
        }
      },
      "source": [
        "print(sym.trigsimp(exp_tA * exp_tA))\n",
        "exp_2ta = sym.Matrix([[sym.cos(2*t),-sym.sin(2*t),0],[sym.sin(2*t),sym.cos(2*t),0],[0,0,1]])\n",
        "print(exp_2ta)"
      ],
      "execution_count": 0,
      "outputs": [
        {
          "output_type": "stream",
          "text": [
            "Matrix([[cos(2*t), -sin(2*t), 0], [sin(2*t), cos(2*t), 0], [0, 0, 1]])\n",
            "Matrix([[cos(2*t), -sin(2*t), 0], [sin(2*t), cos(2*t), 0], [0, 0, 1]])\n"
          ],
          "name": "stdout"
        }
      ]
    },
    {
      "cell_type": "markdown",
      "metadata": {
        "id": "oVXMzvj0Eu6d",
        "colab_type": "text"
      },
      "source": [
        ""
      ]
    },
    {
      "cell_type": "code",
      "metadata": {
        "id": "LPkUA8LgBDwS",
        "colab_type": "code",
        "outputId": "3be7f55e-30b0-4f56-e7b6-7e664b127d90",
        "colab": {
          "base_uri": "https://localhost:8080/",
          "height": 54
        }
      },
      "source": [
        "exp_neg_tb = sym.Matrix([[1,0,0],[0,sym.cos(-t),-sym.sin(-t)],[0,sym.cos(-t),sym.sin(-t)]])\n",
        "exp_neg_tA = sym.Matrix([[sym.cos(-t),-sym.sin(-t),0],[sym.sin(-t),sym.cos(-t),0],[0,0,1]])\n",
        "exp_neg_tC = sym.Matrix([[sym.cos(-t),sym.cos(-t),0],[0,1,0],[-sym.cos(-t),0,sym.sin(-t)]])\n",
        "Q = exp_neg_tb  * exp_neg_tA *  exp_tB * exp_tA \n",
        "print(sym.trigsimp(Q))"
      ],
      "execution_count": 0,
      "outputs": [
        {
          "output_type": "stream",
          "text": [
            "Matrix([[(sin(t)**2 + cos(t))*cos(t), (cos(t) - 1)*sin(t)*cos(t), -sin(t)**2], [(sqrt(2)*sin(t)*sin(t + pi/4) + cos(t)**3 - 1)*sin(t), sqrt(2)*sin(t)*sin(t + pi/4)*cos(t) + cos(t)**4, (sin(t) - cos(t)**2)*sin(t)], [(-sqrt(2)*sin(t)*cos(t + pi/4) + cos(t)**3 - 1)*sin(t), -sqrt(2)*sin(t)*cos(t)*cos(t + pi/4) + cos(t)**4, (sin(t)**2 - sin(t) - 1)*sin(t)]])\n"
          ],
          "name": "stdout"
        }
      ]
    },
    {
      "cell_type": "code",
      "metadata": {
        "id": "UPcUryUClnhl",
        "colab_type": "code",
        "outputId": "c3c7b772-cf7a-4064-d327-b98c17c1551c",
        "colab": {
          "base_uri": "https://localhost:8080/",
          "height": 184
        }
      },
      "source": [
        "sym.Matrix([[(sin(t)**2 + cos(t))*cos(t), (cos(t) - 1)*sin(t)*cos(t), -sin(t)**2], [(sqrt(2)*sin(t)*sin(t + pi/4) + cos(t)**3 - 1)*sin(t), sqrt(2)*sin(t)*sin(t + pi/4)*cos(t) + cos(t)**4, (sin(t) - cos(t)**2)*sin(t)], [(-sqrt(2)*sin(t)*cos(t + pi/4) + cos(t)**3 - 1)*sin(t), -sqrt(2)*sin(t)*cos(t)*cos(t + pi/4) + cos(t)**4, (sin(t)**2 - sin(t) - 1)*sin(t)]])"
      ],
      "execution_count": 4,
      "outputs": [
        {
          "output_type": "error",
          "ename": "NameError",
          "evalue": "ignored",
          "traceback": [
            "\u001b[0;31m---------------------------------------------------------------------------\u001b[0m",
            "\u001b[0;31mNameError\u001b[0m                                 Traceback (most recent call last)",
            "\u001b[0;32m<ipython-input-4-88522eaac4d6>\u001b[0m in \u001b[0;36m<module>\u001b[0;34m()\u001b[0m\n\u001b[0;32m----> 1\u001b[0;31m \u001b[0msym\u001b[0m\u001b[0;34m.\u001b[0m\u001b[0mMatrix\u001b[0m\u001b[0;34m(\u001b[0m\u001b[0;34m[\u001b[0m\u001b[0;34m[\u001b[0m\u001b[0;34m(\u001b[0m\u001b[0msin\u001b[0m\u001b[0;34m(\u001b[0m\u001b[0mt\u001b[0m\u001b[0;34m)\u001b[0m\u001b[0;34m**\u001b[0m\u001b[0;36m2\u001b[0m \u001b[0;34m+\u001b[0m \u001b[0mcos\u001b[0m\u001b[0;34m(\u001b[0m\u001b[0mt\u001b[0m\u001b[0;34m)\u001b[0m\u001b[0;34m)\u001b[0m\u001b[0;34m*\u001b[0m\u001b[0mcos\u001b[0m\u001b[0;34m(\u001b[0m\u001b[0mt\u001b[0m\u001b[0;34m)\u001b[0m\u001b[0;34m,\u001b[0m \u001b[0;34m(\u001b[0m\u001b[0mcos\u001b[0m\u001b[0;34m(\u001b[0m\u001b[0mt\u001b[0m\u001b[0;34m)\u001b[0m \u001b[0;34m-\u001b[0m \u001b[0;36m1\u001b[0m\u001b[0;34m)\u001b[0m\u001b[0;34m*\u001b[0m\u001b[0msin\u001b[0m\u001b[0;34m(\u001b[0m\u001b[0mt\u001b[0m\u001b[0;34m)\u001b[0m\u001b[0;34m*\u001b[0m\u001b[0mcos\u001b[0m\u001b[0;34m(\u001b[0m\u001b[0mt\u001b[0m\u001b[0;34m)\u001b[0m\u001b[0;34m,\u001b[0m \u001b[0;34m-\u001b[0m\u001b[0msin\u001b[0m\u001b[0;34m(\u001b[0m\u001b[0mt\u001b[0m\u001b[0;34m)\u001b[0m\u001b[0;34m**\u001b[0m\u001b[0;36m2\u001b[0m\u001b[0;34m]\u001b[0m\u001b[0;34m,\u001b[0m \u001b[0;34m[\u001b[0m\u001b[0;34m(\u001b[0m\u001b[0msqrt\u001b[0m\u001b[0;34m(\u001b[0m\u001b[0;36m2\u001b[0m\u001b[0;34m)\u001b[0m\u001b[0;34m*\u001b[0m\u001b[0msin\u001b[0m\u001b[0;34m(\u001b[0m\u001b[0mt\u001b[0m\u001b[0;34m)\u001b[0m\u001b[0;34m*\u001b[0m\u001b[0msin\u001b[0m\u001b[0;34m(\u001b[0m\u001b[0mt\u001b[0m \u001b[0;34m+\u001b[0m \u001b[0mpi\u001b[0m\u001b[0;34m/\u001b[0m\u001b[0;36m4\u001b[0m\u001b[0;34m)\u001b[0m \u001b[0;34m+\u001b[0m \u001b[0mcos\u001b[0m\u001b[0;34m(\u001b[0m\u001b[0mt\u001b[0m\u001b[0;34m)\u001b[0m\u001b[0;34m**\u001b[0m\u001b[0;36m3\u001b[0m \u001b[0;34m-\u001b[0m \u001b[0;36m1\u001b[0m\u001b[0;34m)\u001b[0m\u001b[0;34m*\u001b[0m\u001b[0msin\u001b[0m\u001b[0;34m(\u001b[0m\u001b[0mt\u001b[0m\u001b[0;34m)\u001b[0m\u001b[0;34m,\u001b[0m \u001b[0msqrt\u001b[0m\u001b[0;34m(\u001b[0m\u001b[0;36m2\u001b[0m\u001b[0;34m)\u001b[0m\u001b[0;34m*\u001b[0m\u001b[0msin\u001b[0m\u001b[0;34m(\u001b[0m\u001b[0mt\u001b[0m\u001b[0;34m)\u001b[0m\u001b[0;34m*\u001b[0m\u001b[0msin\u001b[0m\u001b[0;34m(\u001b[0m\u001b[0mt\u001b[0m \u001b[0;34m+\u001b[0m \u001b[0mpi\u001b[0m\u001b[0;34m/\u001b[0m\u001b[0;36m4\u001b[0m\u001b[0;34m)\u001b[0m\u001b[0;34m*\u001b[0m\u001b[0mcos\u001b[0m\u001b[0;34m(\u001b[0m\u001b[0mt\u001b[0m\u001b[0;34m)\u001b[0m \u001b[0;34m+\u001b[0m \u001b[0mcos\u001b[0m\u001b[0;34m(\u001b[0m\u001b[0mt\u001b[0m\u001b[0;34m)\u001b[0m\u001b[0;34m**\u001b[0m\u001b[0;36m4\u001b[0m\u001b[0;34m,\u001b[0m \u001b[0;34m(\u001b[0m\u001b[0msin\u001b[0m\u001b[0;34m(\u001b[0m\u001b[0mt\u001b[0m\u001b[0;34m)\u001b[0m \u001b[0;34m-\u001b[0m \u001b[0mc...\n\u001b[0m",
            "\u001b[0;31mNameError\u001b[0m: name 'sym' is not defined"
          ]
        }
      ]
    },
    {
      "cell_type": "code",
      "metadata": {
        "id": "ROIKCIK-n62k",
        "colab_type": "code",
        "outputId": "9ee7679b-930c-4ac9-c1f5-fcc8612009c2",
        "colab": {
          "base_uri": "https://localhost:8080/",
          "height": 85
        }
      },
      "source": [
        "Q_0 = sym.Matrix([\n",
        "[                          sym.sin(0)**2* sym.cos(0) +  sym.cos(0)**2,                        sym.sin(0)* sym.cos(0)**2 -  sym.sin(0)* sym.cos(0),                    - sym.sin(0)**2],\n",
        "[ ( sym.sin(0)* sym.cos(0) +  sym.cos(0)**3)* sym.sin(0) -  sym.sin(0)* sym.cos(0)**2,  ( sym.sin(0)* sym.cos(0) +  sym.cos(0)**3)* sym.cos(0) +  sym.sin(0)**2* sym.cos(0),   sym.sin(0)**2 -  sym.sin(0)* sym.cos(0)**2],\n",
        "[(- sym.sin(0)* sym.cos(0) +  sym.cos(0)**3)* sym.sin(0) -  sym.sin(0)* sym.cos(0)**2, (- sym.sin(0)* sym.cos(0) +  sym.cos(0)**3)* sym.cos(0) +  sym.sin(0)**2* sym.cos(0), - sym.sin(0)**2 -  sym.sin(0)* sym.cos(0)**2]])\n",
        "\n",
        "Q_0\n"
      ],
      "execution_count": 0,
      "outputs": [
        {
          "output_type": "execute_result",
          "data": {
            "text/plain": [
              "Matrix([\n",
              "[1, 0, 0],\n",
              "[0, 1, 0],\n",
              "[0, 1, 0]])"
            ]
          },
          "metadata": {
            "tags": []
          },
          "execution_count": 13
        }
      ]
    },
    {
      "cell_type": "markdown",
      "metadata": {
        "id": "AZV2my10Ynsf",
        "colab_type": "text"
      },
      "source": [
        "We don't know what this is doing.,."
      ]
    },
    {
      "cell_type": "code",
      "metadata": {
        "id": "n4szOJwWZCaF",
        "colab_type": "code",
        "outputId": "6d4e1fab-bc1e-432a-fd2d-04eb820bebd1",
        "colab": {
          "base_uri": "https://localhost:8080/",
          "height": 105
        }
      },
      "source": [
        "deriv_exp_tA = sym.diff(exp_tA,t)\n",
        "deriv_exp_tB = sym.diff(exp_tB,t)\n",
        "deriv_exp_tC = sym.diff(exp_tC,t)\n",
        "deriv_exp_Q = sym.diff(Q,t,2)\n",
        "print(deriv_exp_tA)\n",
        "print(deriv_exp_tB)\n",
        "print(deriv_exp_tC)\n",
        "print(sym.trigsimp(deriv_exp_Q))\n"
      ],
      "execution_count": 0,
      "outputs": [
        {
          "output_type": "stream",
          "text": [
            "Matrix([[-sin(t), -cos(t), 0], [cos(t), -sin(t), 0], [0, 0, 0]])\n",
            "Matrix([[0, 0, 0], [0, -sin(t), -cos(t)], [0, -sin(t), cos(t)]])\n",
            "Matrix([[-sin(t), -sin(t), 0], [0, 0, 0], [sin(t), 0, cos(t)]])\n",
            "Matrix([[-cos(t)/4 - 2*cos(2*t) + 9*cos(3*t)/4, -sin(t)/4 + 2*sin(2*t) - 9*sin(3*t)/4, -2*cos(2*t)], [7*sin(t) - sin(2*t) - 2*sin(4*t) - 9*sqrt(2)*sin(t + pi/4)/2 + 9*sqrt(2)*sin(3*t + pi/4)/4 + 2*cos(t) + 9*sqrt(2)*cos(t + pi/4)/4, -4*(-cos(2*t) + 1)**2 - sqrt(2)*sin(t + pi/4)/4 - 10*cos(2*t) + 9*sqrt(2)*cos(3*t + pi/4)/4 + 6, sin(t)/4 + 9*sin(3*t)/4 + 2*cos(2*t)], [7*sin(t) - sin(2*t) - 2*sin(4*t) - 9*sqrt(2)*sin(t + pi/4)/4 - 2*cos(t) + 9*sqrt(2)*cos(t + pi/4)/2 - 9*sqrt(2)*cos(3*t + pi/4)/4, -4*(-cos(2*t) + 1)**2 + 9*sqrt(2)*sin(3*t + pi/4)/4 - 10*cos(2*t) - sqrt(2)*cos(t + pi/4)/4 + 6, sin(t)/4 + 9*sin(3*t)/4 - 2*cos(2*t)]])\n"
          ],
          "name": "stdout"
        }
      ]
    },
    {
      "cell_type": "code",
      "metadata": {
        "id": "ZyMvQdEyZ-57",
        "colab_type": "code",
        "outputId": "aed015c6-28e6-4e2a-b171-49861918d678",
        "colab": {
          "base_uri": "https://localhost:8080/",
          "height": 85
        }
      },
      "source": [
        "#Evaluate  deriv_exp_tA\n",
        "sym.Matrix([[-sym.sin(0), -sym.cos(0), 0], [sym.cos(0), -sym.sin(0), 0], [0, 0, 0]])\n"
      ],
      "execution_count": 0,
      "outputs": [
        {
          "output_type": "execute_result",
          "data": {
            "text/plain": [
              "Matrix([\n",
              "[0, -1, 0],\n",
              "[1,  0, 0],\n",
              "[0,  0, 0]])"
            ]
          },
          "metadata": {
            "tags": []
          },
          "execution_count": 16
        }
      ]
    },
    {
      "cell_type": "code",
      "metadata": {
        "id": "6gads6Wzb5Ef",
        "colab_type": "code",
        "outputId": "33ee5996-abd2-4568-f005-62e2e25329c4",
        "colab": {
          "base_uri": "https://localhost:8080/",
          "height": 164
        }
      },
      "source": [
        "#7 AB - BA\n",
        "A*B - B*A"
      ],
      "execution_count": 0,
      "outputs": [
        {
          "output_type": "error",
          "ename": "NameError",
          "evalue": "ignored",
          "traceback": [
            "\u001b[0;31m---------------------------------------------------------------------------\u001b[0m",
            "\u001b[0;31mNameError\u001b[0m                                 Traceback (most recent call last)",
            "\u001b[0;32m<ipython-input-1-77f244274c88>\u001b[0m in \u001b[0;36m<module>\u001b[0;34m()\u001b[0m\n\u001b[0;32m----> 1\u001b[0;31m \u001b[0mA\u001b[0m\u001b[0;34m*\u001b[0m\u001b[0mB\u001b[0m \u001b[0;34m-\u001b[0m \u001b[0mB\u001b[0m\u001b[0;34m*\u001b[0m\u001b[0mA\u001b[0m\u001b[0;34m\u001b[0m\u001b[0;34m\u001b[0m\u001b[0m\n\u001b[0m",
            "\u001b[0;31mNameError\u001b[0m: name 'A' is not defined"
          ]
        }
      ]
    },
    {
      "cell_type": "markdown",
      "metadata": {
        "id": "5wMQ0SGi5_aP",
        "colab_type": "text"
      },
      "source": [
        "This is the matrix, but two things need to be fixed:\n",
        "\n",
        "$$ \\\\left[\\\\begin{matrix}0 & t & 0\\\\\\\\t & 0 & 0\\\\\\\\0 & 0 & t\\\\end{matrix}\\\\right] $$\n",
        "\n",
        "1)  Replace every \\\\ with a single \\\n",
        "2)  Put some space before the \\ marks, or after the \\\\ marks\n",
        "\n",
        "$$ \\left[ \\begin{matrix}0 & t & 0 \\\\ t & 0 & 0 \\\\ 0 & 0 & t \\end{matrix} \\right] $$\n"
      ]
    },
    {
      "cell_type": "markdown",
      "metadata": {
        "id": "hPTaQg2aHT_L",
        "colab_type": "text"
      },
      "source": [
        "# Executive Summary\n",
        "\n",
        "In this section, your goal is to write a 2 page report giving an overview of the project given above.  This does not mean provide the answers to each question above.  Instead, think of the important relationships between the matrices, the continuous maps, tangent vectors, and transformations that you found above.  Those pieces fit together into one coherent story.\n",
        "\n",
        "In your executive summary, describe that story.  Your executive summary does not need to include complex computations, but it should include the results of relevant computations using math objects like matrices, derivatives, or tangent vectors.\n",
        "\n",
        "At  the end of your executive summary, you should also include two short paragraphs detailing (1) an important or unexpected result, and (2) a challenge you faced in the project and how you dealt with that challenge."
      ]
    },
    {
      "cell_type": "markdown",
      "metadata": {
        "id": "2NswmPjV-YP1",
        "colab_type": "text"
      },
      "source": [
        "Guidelines \n",
        "Explanation of stuff like matrices, transformations and results...\n",
        "relationship of matrices and rotation and vice versa. what happens when you combine rotations in the given format? \n",
        "how does it compare to the original matrices\n",
        "\n",
        "3 sentence Abstract on the top. (Given discrete matrices, we exponentiate the to find the rotations.)\n",
        "Introduce matrices and rotations\n",
        "Talk about the relationship of rotation and matrices\n",
        "combinations of matrices and rotation\n",
        "\n",
        "Any unexpected results? What were your specific challenges?\n",
        "Examples\n",
        "Do not include the calculations\n",
        "\n",
        "\n",
        "Exponentiats generates the rotation or it gives the path . if we got some rotations going around then matrices(vectors) are the tangent to the rotations. We can go back using derivatives. "
      ]
    },
    {
      "cell_type": "code",
      "metadata": {
        "id": "Oneug-i0_wLj",
        "colab_type": "code",
        "colab": {}
      },
      "source": [
        ""
      ],
      "execution_count": 0,
      "outputs": []
    },
    {
      "cell_type": "markdown",
      "metadata": {
        "id": "WWsZQVlHi1BR",
        "colab_type": "text"
      },
      "source": [
        "Abstract:\n",
        "Given the matrices, explore the relationship between the exponentiating of the matrices and the rotation matrices. \n",
        "\n",
        "\n",
        "We started with three matrices A, B,C . Then we did a scalar multiplication of matrices by a variable `t`. We then, take the exponent of the resulting matrices by expanding the power series.\n",
        "We have three exponentials of the three matrices.\n",
        "Then, we observed that the resulting matrices are the matrices for rotation.so we get three different types of rotations.\n",
        "We also observed that the derivative of the exponentials evaluated t= 0 gives the original matrices.\n",
        "When we multiply the negative exponentials and the postive exponentials of the matrices, we get the Q matrix which is a rotation of 90 degree with respect to x-axis.\n",
        "\n",
        "We take the derivatives of the rotation matrices $\\gamma_a$ , $\\gamma_b$ , $\\gamma_c$ and Q. These evaluated at t= 0 gives us the tangent vectors of the specific rotations\n",
        "\n",
        "We verified that the product of [A,B] = AB-BA = C. \n",
        "\n",
        "\n",
        "   An important result that we have in our project is the AB – BA= C. This basically means that when we multiply AB and BA matrices together we get the given C matrix we have to start off on our project. This is a key component in order for us to understand what is going on and as well us having the proper matrices to do the rest of the problems. We use these matrices to find exp(tA) and same for B and C. We find rotations with the information based on the matrices and we also find the tangent vectors.\n",
        "   A challenge that I faced during this project was I had a hard time with the whole coding thing because of the fact I have never coded before in my life nor in school. That was a hard time for me but with the help of my partner and showing me how to use the different codes helped me a lot. I plan on learning throughout the whole process which is going to make coding a lot easier than it was in the beginning of the year. Understanding the process was easier than coding because I could picture what was happening with the rotations more than just wring a bunch of code. But I understand this project was suppose to be difficult for a reason for us.  \n",
        "\n",
        "\n"
      ]
    }
  ]
}